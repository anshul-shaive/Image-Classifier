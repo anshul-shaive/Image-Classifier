{
 "cells": [
  {
   "cell_type": "code",
   "execution_count": 1,
   "metadata": {
    "colab": {
     "base_uri": "https://localhost:8080/"
    },
    "id": "OK4T2eUZm_Si",
    "outputId": "17f2c5fb-8407-436a-b33f-7425c545ca2e"
   },
   "outputs": [
    {
     "name": "stdout",
     "output_type": "stream",
     "text": [
      "Collecting kaggle\n",
      "\u001b[?25l  Downloading https://files.pythonhosted.org/packages/3a/e7/3bac01547d2ed3d308ac92a0878fbdb0ed0f3d41fb1906c319ccbba1bfbc/kaggle-1.5.12.tar.gz (58kB)\n",
      "\r",
      "\u001b[K     |█████▋                          | 10kB 18.4MB/s eta 0:00:01\r",
      "\u001b[K     |███████████▏                    | 20kB 19.4MB/s eta 0:00:01\r",
      "\u001b[K     |████████████████▊               | 30kB 15.4MB/s eta 0:00:01\r",
      "\u001b[K     |██████████████████████▎         | 40kB 13.7MB/s eta 0:00:01\r",
      "\u001b[K     |███████████████████████████▉    | 51kB 8.4MB/s eta 0:00:01\r",
      "\u001b[K     |████████████████████████████████| 61kB 5.2MB/s \n",
      "\u001b[?25hRequirement already satisfied, skipping upgrade: six>=1.10 in /usr/local/lib/python3.7/dist-packages (from kaggle) (1.15.0)\n",
      "Requirement already satisfied, skipping upgrade: certifi in /usr/local/lib/python3.7/dist-packages (from kaggle) (2020.12.5)\n",
      "Requirement already satisfied, skipping upgrade: python-dateutil in /usr/local/lib/python3.7/dist-packages (from kaggle) (2.8.1)\n",
      "Requirement already satisfied, skipping upgrade: requests in /usr/local/lib/python3.7/dist-packages (from kaggle) (2.23.0)\n",
      "Requirement already satisfied, skipping upgrade: tqdm in /usr/local/lib/python3.7/dist-packages (from kaggle) (4.41.1)\n",
      "Requirement already satisfied, skipping upgrade: python-slugify in /usr/local/lib/python3.7/dist-packages (from kaggle) (4.0.1)\n",
      "Requirement already satisfied, skipping upgrade: urllib3 in /usr/local/lib/python3.7/dist-packages (from kaggle) (1.24.3)\n",
      "Requirement already satisfied, skipping upgrade: idna<3,>=2.5 in /usr/local/lib/python3.7/dist-packages (from requests->kaggle) (2.10)\n",
      "Requirement already satisfied, skipping upgrade: chardet<4,>=3.0.2 in /usr/local/lib/python3.7/dist-packages (from requests->kaggle) (3.0.4)\n",
      "Requirement already satisfied, skipping upgrade: text-unidecode>=1.3 in /usr/local/lib/python3.7/dist-packages (from python-slugify->kaggle) (1.3)\n",
      "Building wheels for collected packages: kaggle\n",
      "  Building wheel for kaggle (setup.py) ... \u001b[?25l\u001b[?25hdone\n",
      "  Created wheel for kaggle: filename=kaggle-1.5.12-cp37-none-any.whl size=73053 sha256=37b78dde9de6602f3c390b14caff54ceadf3b596ae7f3979f53e32608b366e2b\n",
      "  Stored in directory: /root/.cache/pip/wheels/a1/6a/26/d30b7499ff85a4a4593377a87ecf55f7d08af42f0de9b60303\n",
      "Successfully built kaggle\n",
      "Installing collected packages: kaggle\n",
      "  Found existing installation: kaggle 1.5.10\n",
      "    Uninstalling kaggle-1.5.10:\n",
      "      Successfully uninstalled kaggle-1.5.10\n",
      "Successfully installed kaggle-1.5.12\n"
     ]
    }
   ],
   "source": [
    "pip install --upgrade kaggle"
   ]
  },
  {
   "cell_type": "code",
   "execution_count": 94,
   "metadata": {
    "id": "jclvJyLhkYd9"
   },
   "outputs": [],
   "source": [
    "from google.colab import files\n",
    "\n",
    "files.upload()"
   ]
  },
  {
   "cell_type": "code",
   "execution_count": 3,
   "metadata": {
    "id": "bDenYBNvkh_x"
   },
   "outputs": [],
   "source": [
    "! mkdir ~/.kaggle\n",
    "! cp kaggle.json ~/.kaggle/"
   ]
  },
  {
   "cell_type": "code",
   "execution_count": 4,
   "metadata": {
    "id": "R_CdLyYfknNy"
   },
   "outputs": [],
   "source": [
    "! chmod 600 ~/.kaggle/kaggle.json"
   ]
  },
  {
   "cell_type": "code",
   "execution_count": 5,
   "metadata": {
    "id": "tRkfULYbkqyt"
   },
   "outputs": [],
   "source": [
    "#  ! kaggle datasets list"
   ]
  },
  {
   "cell_type": "code",
   "execution_count": 6,
   "metadata": {
    "colab": {
     "base_uri": "https://localhost:8080/"
    },
    "id": "7mMAAO-fkzIv",
    "outputId": "ec87cef2-065c-4e0e-db47-254e88b25218"
   },
   "outputs": [
    {
     "name": "stdout",
     "output_type": "stream",
     "text": [
      "Downloading dog-breed-identification.zip to /content\n",
      " 97% 673M/691M [00:08<00:00, 49.5MB/s]\n",
      "100% 691M/691M [00:08<00:00, 81.9MB/s]\n"
     ]
    }
   ],
   "source": [
    "! kaggle competitions download -c dog-breed-identification"
   ]
  },
  {
   "cell_type": "code",
   "execution_count": 7,
   "metadata": {
    "id": "pWdw_V6wnjvg"
   },
   "outputs": [],
   "source": [
    "! mkdir dogs_data"
   ]
  },
  {
   "cell_type": "code",
   "execution_count": 1,
   "metadata": {
    "colab": {
     "base_uri": "https://localhost:8080/"
    },
    "id": "ytAJQ6jVnoMm",
    "outputId": "a467af77-4548-4cd2-a683-7db971f66433"
   },
   "outputs": [],
   "source": [
    "! unzip dog-breed-identification.zip -d dogs_data"
   ]
  },
  {
   "cell_type": "code",
   "execution_count": 9,
   "metadata": {
    "id": "KSgslYaTaABi"
   },
   "outputs": [],
   "source": [
    "import numpy as np\n",
    "import pandas as pd\n",
    "import tensorflow as tf"
   ]
  },
  {
   "cell_type": "code",
   "execution_count": 10,
   "metadata": {
    "id": "Tdf4ug3EaABo"
   },
   "outputs": [],
   "source": [
    "from sklearn.model_selection import train_test_split\n",
    "import matplotlib.pyplot as plt\n",
    "from sklearn.preprocessing import Normalizer\n",
    "from tqdm import tqdm\n",
    "import cv2"
   ]
  },
  {
   "cell_type": "code",
   "execution_count": 11,
   "metadata": {
    "id": "5TDqouIDaABo"
   },
   "outputs": [],
   "source": [
    "labels_df=pd.read_csv('dogs_data/labels.csv')"
   ]
  },
  {
   "cell_type": "code",
   "execution_count": 12,
   "metadata": {
    "colab": {
     "base_uri": "https://localhost:8080/"
    },
    "id": "GyahiBfRaABo",
    "outputId": "9fe89660-ac3c-4516-b24b-01ff84710353"
   },
   "outputs": [
    {
     "data": {
      "text/plain": [
       "(10222, 2)"
      ]
     },
     "execution_count": 12,
     "metadata": {
      "tags": []
     },
     "output_type": "execute_result"
    }
   ],
   "source": [
    "labels_df.shape"
   ]
  },
  {
   "cell_type": "code",
   "execution_count": 13,
   "metadata": {
    "colab": {
     "base_uri": "https://localhost:8080/",
     "height": 196
    },
    "id": "TPt7AseAaABo",
    "outputId": "afae29be-3b3d-491d-e1e9-e6b7dca50739"
   },
   "outputs": [
    {
     "data": {
      "text/html": [
       "<div>\n",
       "<style scoped>\n",
       "    .dataframe tbody tr th:only-of-type {\n",
       "        vertical-align: middle;\n",
       "    }\n",
       "\n",
       "    .dataframe tbody tr th {\n",
       "        vertical-align: top;\n",
       "    }\n",
       "\n",
       "    .dataframe thead th {\n",
       "        text-align: right;\n",
       "    }\n",
       "</style>\n",
       "<table border=\"1\" class=\"dataframe\">\n",
       "  <thead>\n",
       "    <tr style=\"text-align: right;\">\n",
       "      <th></th>\n",
       "      <th>id</th>\n",
       "      <th>breed</th>\n",
       "    </tr>\n",
       "  </thead>\n",
       "  <tbody>\n",
       "    <tr>\n",
       "      <th>0</th>\n",
       "      <td>000bec180eb18c7604dcecc8fe0dba07</td>\n",
       "      <td>boston_bull</td>\n",
       "    </tr>\n",
       "    <tr>\n",
       "      <th>1</th>\n",
       "      <td>001513dfcb2ffafc82cccf4d8bbaba97</td>\n",
       "      <td>dingo</td>\n",
       "    </tr>\n",
       "    <tr>\n",
       "      <th>2</th>\n",
       "      <td>001cdf01b096e06d78e9e5112d419397</td>\n",
       "      <td>pekinese</td>\n",
       "    </tr>\n",
       "    <tr>\n",
       "      <th>3</th>\n",
       "      <td>00214f311d5d2247d5dfe4fe24b2303d</td>\n",
       "      <td>bluetick</td>\n",
       "    </tr>\n",
       "    <tr>\n",
       "      <th>4</th>\n",
       "      <td>0021f9ceb3235effd7fcde7f7538ed62</td>\n",
       "      <td>golden_retriever</td>\n",
       "    </tr>\n",
       "  </tbody>\n",
       "</table>\n",
       "</div>"
      ],
      "text/plain": [
       "                                 id             breed\n",
       "0  000bec180eb18c7604dcecc8fe0dba07       boston_bull\n",
       "1  001513dfcb2ffafc82cccf4d8bbaba97             dingo\n",
       "2  001cdf01b096e06d78e9e5112d419397          pekinese\n",
       "3  00214f311d5d2247d5dfe4fe24b2303d          bluetick\n",
       "4  0021f9ceb3235effd7fcde7f7538ed62  golden_retriever"
      ]
     },
     "execution_count": 13,
     "metadata": {
      "tags": []
     },
     "output_type": "execute_result"
    }
   ],
   "source": [
    "labels_df.head()"
   ]
  },
  {
   "cell_type": "code",
   "execution_count": 14,
   "metadata": {
    "id": "HbXkIHBqaABp"
   },
   "outputs": [],
   "source": [
    "selected_labels=['beagle', 'chihuahua', 'doberman', 'french_bulldog', 'golden_retriever', \n",
    " 'malamute', 'pug', 'saint_bernard', 'scottish_deerhound','tibetan_mastiff']"
   ]
  },
  {
   "cell_type": "code",
   "execution_count": 15,
   "metadata": {
    "id": "DGenwCYcaABp"
   },
   "outputs": [],
   "source": [
    "labels_df=labels_df[labels_df['breed'].isin(selected_labels)].reset_index(drop=True)"
   ]
  },
  {
   "cell_type": "code",
   "execution_count": 20,
   "metadata": {
    "colab": {
     "base_uri": "https://localhost:8080/"
    },
    "id": "yyaNEZFHVwx6",
    "outputId": "23eee27e-9b1e-4f65-934b-5339d990045d"
   },
   "outputs": [
    {
     "data": {
      "text/plain": [
       "scottish_deerhound    126\n",
       "beagle                105\n",
       "pug                    94\n",
       "saint_bernard          84\n",
       "malamute               81\n",
       "doberman               74\n",
       "chihuahua              71\n",
       "french_bulldog         70\n",
       "tibetan_mastiff        69\n",
       "golden_retriever       67\n",
       "Name: breed, dtype: int64"
      ]
     },
     "execution_count": 20,
     "metadata": {
      "tags": []
     },
     "output_type": "execute_result"
    }
   ],
   "source": [
    "labels_df.breed.value_counts()"
   ]
  },
  {
   "cell_type": "code",
   "execution_count": 16,
   "metadata": {
    "id": "D_k0D4q1aABp"
   },
   "outputs": [],
   "source": [
    "n = len(labels_df)\n",
    "breed = set(labels_df['breed'])\n",
    "n_class = len(breed)\n",
    "class_to_num = dict(zip(breed, range(n_class)))\n",
    "num_to_class = dict(zip(range(n_class), breed))"
   ]
  },
  {
   "cell_type": "code",
   "execution_count": 18,
   "metadata": {
    "colab": {
     "base_uri": "https://localhost:8080/"
    },
    "id": "-O-wfaoxVpbE",
    "outputId": "aad6426a-b650-4ba5-9077-a5d708d0d21f"
   },
   "outputs": [
    {
     "data": {
      "text/plain": [
       "{'beagle': 3,\n",
       " 'chihuahua': 9,\n",
       " 'doberman': 1,\n",
       " 'french_bulldog': 2,\n",
       " 'golden_retriever': 6,\n",
       " 'malamute': 0,\n",
       " 'pug': 8,\n",
       " 'saint_bernard': 4,\n",
       " 'scottish_deerhound': 7,\n",
       " 'tibetan_mastiff': 5}"
      ]
     },
     "execution_count": 18,
     "metadata": {
      "tags": []
     },
     "output_type": "execute_result"
    }
   ],
   "source": [
    "class_to_num"
   ]
  },
  {
   "cell_type": "code",
   "execution_count": 17,
   "metadata": {
    "colab": {
     "base_uri": "https://localhost:8080/"
    },
    "id": "wnkKqGTcVkvi",
    "outputId": "e44968f9-43e8-4822-a873-1e7f2f67ae4c"
   },
   "outputs": [
    {
     "data": {
      "text/plain": [
       "{0: 'malamute',\n",
       " 1: 'doberman',\n",
       " 2: 'french_bulldog',\n",
       " 3: 'beagle',\n",
       " 4: 'saint_bernard',\n",
       " 5: 'tibetan_mastiff',\n",
       " 6: 'golden_retriever',\n",
       " 7: 'scottish_deerhound',\n",
       " 8: 'pug',\n",
       " 9: 'chihuahua'}"
      ]
     },
     "execution_count": 17,
     "metadata": {
      "tags": []
     },
     "output_type": "execute_result"
    }
   ],
   "source": [
    "num_to_class"
   ]
  },
  {
   "cell_type": "code",
   "execution_count": 21,
   "metadata": {
    "colab": {
     "base_uri": "https://localhost:8080/"
    },
    "id": "PJ1DCDDxaABp",
    "outputId": "99c072bb-dbcb-4d38-d60b-6e03e53b9a5f"
   },
   "outputs": [
    {
     "name": "stderr",
     "output_type": "stream",
     "text": [
      "100%|██████████| 841/841 [00:02<00:00, 305.86it/s]\n"
     ]
    }
   ],
   "source": [
    "size = 224\n",
    "X_train = np.zeros((n, size, size, 3), dtype=np.uint8)\n",
    "Y_train = np.zeros((n, n_class), dtype=np.uint8)\n",
    "for i in tqdm(range(n)):\n",
    "    X_train[i] = cv2.resize(cv2.imread('dogs_data/train/%s.jpg' % labels_df['id'][i]), (size, size))\n",
    "    Y_train[i][class_to_num[labels_df['breed'][i]]] = 1"
   ]
  },
  {
   "cell_type": "code",
   "execution_count": 22,
   "metadata": {
    "colab": {
     "base_uri": "https://localhost:8080/"
    },
    "id": "Sws3SRCEaABq",
    "outputId": "b8d51908-7ca8-4b7d-fb1c-8c63ebebdb49"
   },
   "outputs": [
    {
     "data": {
      "text/plain": [
       "(841, 224, 224, 3)"
      ]
     },
     "execution_count": 22,
     "metadata": {
      "tags": []
     },
     "output_type": "execute_result"
    }
   ],
   "source": [
    "X_train.shape"
   ]
  },
  {
   "cell_type": "code",
   "execution_count": 23,
   "metadata": {
    "colab": {
     "base_uri": "https://localhost:8080/"
    },
    "id": "KYuhD5anaABq",
    "outputId": "3321cab9-094f-4b3d-f79e-ad5530c54ff0"
   },
   "outputs": [
    {
     "data": {
      "text/plain": [
       "(841, 10)"
      ]
     },
     "execution_count": 23,
     "metadata": {
      "tags": []
     },
     "output_type": "execute_result"
    }
   ],
   "source": [
    "Y_train.shape"
   ]
  },
  {
   "cell_type": "code",
   "execution_count": 24,
   "metadata": {
    "id": "kaBvOBNNaABq"
   },
   "outputs": [],
   "source": [
    "train_x, test_x, train_y, test_y = train_test_split(X_train, Y_train, test_size=0.15,  \n",
    "                                                   stratify=Y_train, \n",
    "                                                   random_state=40, shuffle = True)"
   ]
  },
  {
   "cell_type": "code",
   "execution_count": 25,
   "metadata": {
    "id": "uycqxCEu8ge0"
   },
   "outputs": [],
   "source": [
    "train_x, val_x, train_y, val_y = train_test_split(train_x, train_y, test_size=0.15,  \n",
    "                                                  stratify=train_y, \n",
    "                                                  random_state=40, shuffle = True)"
   ]
  },
  {
   "cell_type": "code",
   "execution_count": 26,
   "metadata": {
    "id": "uA9i2K5MpzPB"
   },
   "outputs": [],
   "source": [
    "train_dataset= tf.keras.preprocessing.image.ImageDataGenerator().flow(train_x,train_y)\n",
    "val_dataset  = tf.keras.preprocessing.image.ImageDataGenerator().flow(val_x,val_y)"
   ]
  },
  {
   "cell_type": "code",
   "execution_count": 27,
   "metadata": {
    "colab": {
     "base_uri": "https://localhost:8080/"
    },
    "id": "BfSV7vSOaABq",
    "outputId": "00d5344e-b988-4c2e-8454-86e48857c401"
   },
   "outputs": [
    {
     "name": "stdout",
     "output_type": "stream",
     "text": [
      "Downloading data from https://storage.googleapis.com/tensorflow/keras-applications/resnet/resnet50_weights_tf_dim_ordering_tf_kernels_notop.h5\n",
      "94773248/94765736 [==============================] - 1s 0us/step\n"
     ]
    }
   ],
   "source": [
    "base_model = tf.keras.applications.ResNet50(input_shape=(224, 224, 3),include_top=False)"
   ]
  },
  {
   "cell_type": "code",
   "execution_count": 28,
   "metadata": {
    "id": "Z82jDJSLaABr"
   },
   "outputs": [],
   "source": [
    "data_augmentation = tf.keras.Sequential([\n",
    "  tf.keras.layers.experimental.preprocessing.RandomFlip('horizontal'),\n",
    "  tf.keras.layers.experimental.preprocessing.RandomRotation(0.2),\n",
    "])"
   ]
  },
  {
   "cell_type": "code",
   "execution_count": 29,
   "metadata": {
    "id": "2j9HJauPo2PG"
   },
   "outputs": [],
   "source": [
    "preprocess_input = tf.keras.applications.resnet50.preprocess_input"
   ]
  },
  {
   "cell_type": "code",
   "execution_count": 30,
   "metadata": {
    "colab": {
     "base_uri": "https://localhost:8080/"
    },
    "id": "DWXYJKUjaABr",
    "outputId": "dcfc1024-0b86-4305-ee76-10e1198f62d8"
   },
   "outputs": [
    {
     "name": "stdout",
     "output_type": "stream",
     "text": [
      "(32, 7, 7, 2048)\n"
     ]
    }
   ],
   "source": [
    "image_batch, label_batch = next(iter(train_dataset))\n",
    "feature_batch = base_model(image_batch)\n",
    "print(feature_batch.shape)"
   ]
  },
  {
   "cell_type": "code",
   "execution_count": 31,
   "metadata": {
    "id": "ncEFbJlwou9E"
   },
   "outputs": [],
   "source": [
    "base_model.trainable = False"
   ]
  },
  {
   "cell_type": "code",
   "execution_count": 32,
   "metadata": {
    "colab": {
     "base_uri": "https://localhost:8080/"
    },
    "id": "8mGr0llTaABr",
    "outputId": "e62598b1-6528-492e-929a-638b030ce0b2"
   },
   "outputs": [
    {
     "name": "stdout",
     "output_type": "stream",
     "text": [
      "(32, 2048)\n"
     ]
    }
   ],
   "source": [
    "global_average_layer = tf.keras.layers.GlobalAveragePooling2D()\n",
    "feature_batch_average = global_average_layer(feature_batch)\n",
    "print(feature_batch_average.shape)"
   ]
  },
  {
   "cell_type": "code",
   "execution_count": 33,
   "metadata": {
    "colab": {
     "base_uri": "https://localhost:8080/"
    },
    "id": "2Kbafj7SpBpp",
    "outputId": "0b5690a2-0b30-4517-9de2-573067ad4fbe"
   },
   "outputs": [
    {
     "name": "stdout",
     "output_type": "stream",
     "text": [
      "(32, 10)\n"
     ]
    }
   ],
   "source": [
    "prediction_layer = tf.keras.layers.Dense(len(selected_labels),activation='softmax')\n",
    "prediction_batch = prediction_layer(feature_batch_average)\n",
    "print(prediction_batch.shape)"
   ]
  },
  {
   "cell_type": "code",
   "execution_count": 34,
   "metadata": {
    "id": "C75PReifpd4R"
   },
   "outputs": [],
   "source": [
    "inputs = tf.keras.Input(shape=(224, 224, 3))\n",
    "x = data_augmentation(inputs)\n",
    "x = preprocess_input(x)\n",
    "x = base_model(x, training=False)\n",
    "x = global_average_layer(x)\n",
    "x = tf.keras.layers.Dropout(0.2)(x)\n",
    "outputs = prediction_layer(x)\n",
    "model = tf.keras.Model(inputs, outputs)"
   ]
  },
  {
   "cell_type": "code",
   "execution_count": 35,
   "metadata": {
    "id": "KNzvOXnMaABs"
   },
   "outputs": [],
   "source": [
    "base_learning_rate = 0.0001\n",
    "model.compile(optimizer=tf.keras.optimizers.Adam(lr=base_learning_rate),\n",
    "              loss=tf.keras.losses.CategoricalCrossentropy(),\n",
    "              metrics=['accuracy'])"
   ]
  },
  {
   "cell_type": "code",
   "execution_count": 36,
   "metadata": {
    "colab": {
     "base_uri": "https://localhost:8080/"
    },
    "id": "tEabAQ-bppms",
    "outputId": "eb3fe0fe-9c01-4723-c36c-9f86a780a051"
   },
   "outputs": [
    {
     "data": {
      "text/plain": [
       "2"
      ]
     },
     "execution_count": 36,
     "metadata": {
      "tags": []
     },
     "output_type": "execute_result"
    }
   ],
   "source": [
    "len(model.trainable_variables)"
   ]
  },
  {
   "cell_type": "code",
   "execution_count": 37,
   "metadata": {
    "colab": {
     "base_uri": "https://localhost:8080/"
    },
    "id": "aOmxYr1NqYoz",
    "outputId": "7ce94467-aa27-468d-f331-a0679ea8f70e"
   },
   "outputs": [
    {
     "name": "stdout",
     "output_type": "stream",
     "text": [
      "4/4 [==============================] - 3s 238ms/step - loss: 2.8023 - accuracy: 0.0990\n"
     ]
    }
   ],
   "source": [
    "initial_epochs = 10\n",
    "\n",
    "loss0, accuracy0 = model.evaluate(val_dataset)"
   ]
  },
  {
   "cell_type": "code",
   "execution_count": 38,
   "metadata": {
    "colab": {
     "base_uri": "https://localhost:8080/"
    },
    "id": "lQlOESIEqcFz",
    "outputId": "c7f1e5c5-4fa5-47d1-b518-14d1e942476c"
   },
   "outputs": [
    {
     "name": "stdout",
     "output_type": "stream",
     "text": [
      "initial loss: 2.88\n",
      "initial accuracy: 0.08\n"
     ]
    }
   ],
   "source": [
    "print(\"initial loss: {:.2f}\".format(loss0))\n",
    "print(\"initial accuracy: {:.2f}\".format(accuracy0))"
   ]
  },
  {
   "cell_type": "code",
   "execution_count": 39,
   "metadata": {
    "colab": {
     "base_uri": "https://localhost:8080/"
    },
    "id": "h3Kd-5HhqmJB",
    "outputId": "39990140-0d5c-4540-83a2-5039aaa56c04"
   },
   "outputs": [
    {
     "name": "stdout",
     "output_type": "stream",
     "text": [
      "Epoch 1/10\n",
      "19/19 [==============================] - 6s 177ms/step - loss: 2.7919 - accuracy: 0.1106 - val_loss: 2.3802 - val_accuracy: 0.1481\n",
      "Epoch 2/10\n",
      "19/19 [==============================] - 2s 128ms/step - loss: 2.4483 - accuracy: 0.1782 - val_loss: 2.0936 - val_accuracy: 0.2593\n",
      "Epoch 3/10\n",
      "19/19 [==============================] - 2s 127ms/step - loss: 2.2511 - accuracy: 0.2277 - val_loss: 1.8511 - val_accuracy: 0.2870\n",
      "Epoch 4/10\n",
      "19/19 [==============================] - 2s 128ms/step - loss: 2.0406 - accuracy: 0.3119 - val_loss: 1.6274 - val_accuracy: 0.4167\n",
      "Epoch 5/10\n",
      "19/19 [==============================] - 2s 127ms/step - loss: 1.8156 - accuracy: 0.3746 - val_loss: 1.4439 - val_accuracy: 0.5278\n",
      "Epoch 6/10\n",
      "19/19 [==============================] - 2s 129ms/step - loss: 1.6971 - accuracy: 0.4142 - val_loss: 1.2896 - val_accuracy: 0.6204\n",
      "Epoch 7/10\n",
      "19/19 [==============================] - 2s 126ms/step - loss: 1.5010 - accuracy: 0.5182 - val_loss: 1.1532 - val_accuracy: 0.6944\n",
      "Epoch 8/10\n",
      "19/19 [==============================] - 2s 128ms/step - loss: 1.4577 - accuracy: 0.5165 - val_loss: 1.0376 - val_accuracy: 0.7315\n",
      "Epoch 9/10\n",
      "19/19 [==============================] - 2s 126ms/step - loss: 1.2755 - accuracy: 0.5924 - val_loss: 0.9473 - val_accuracy: 0.7778\n",
      "Epoch 10/10\n",
      "19/19 [==============================] - 2s 129ms/step - loss: 1.2405 - accuracy: 0.6007 - val_loss: 0.8622 - val_accuracy: 0.8148\n"
     ]
    }
   ],
   "source": [
    "history = model.fit(train_dataset,\n",
    "                    epochs=initial_epochs,\n",
    "                    validation_data=val_dataset)"
   ]
  },
  {
   "cell_type": "code",
   "execution_count": 40,
   "metadata": {
    "colab": {
     "base_uri": "https://localhost:8080/",
     "height": 513
    },
    "id": "-PTbPOUwqqCD",
    "outputId": "01702772-921e-41af-fc0c-ad4d7c80416e"
   },
   "outputs": [
    {
     "data": {
      "image/png": "[encoded data removed]",
      "text/plain": [
       "<Figure size 576x576 with 2 Axes>"
      ]
     },
     "metadata": {
      "needs_background": "light",
      "tags": []
     },
     "output_type": "display_data"
    }
   ],
   "source": [
    "acc = history.history['accuracy']\n",
    "val_acc = history.history['val_accuracy']\n",
    "\n",
    "loss = history.history['loss']\n",
    "val_loss = history.history['val_loss']\n",
    "\n",
    "plt.figure(figsize=(8, 8))\n",
    "plt.subplot(2, 1, 1)\n",
    "plt.plot(acc, label='Training Accuracy')\n",
    "plt.plot(val_acc, label='Validation Accuracy')\n",
    "plt.legend(loc='lower right')\n",
    "plt.ylabel('Accuracy')\n",
    "plt.ylim([min(plt.ylim()),1])\n",
    "plt.title('Training and Validation Accuracy')\n",
    "\n",
    "plt.subplot(2, 1, 2)\n",
    "plt.plot(loss, label='Training Loss')\n",
    "plt.plot(val_loss, label='Validation Loss')\n",
    "plt.legend(loc='upper right')\n",
    "plt.ylabel('Cross Entropy')\n",
    "plt.ylim([0,1.0])\n",
    "plt.title('Training and Validation Loss')\n",
    "plt.xlabel('epoch')\n",
    "plt.show()"
   ]
  },
  {
   "cell_type": "markdown",
   "metadata": {},
   "source": [
    "Now, let's fine tune last 75 layers to improve our model"
   ]
  },
  {
   "cell_type": "code",
   "execution_count": 41,
   "metadata": {
    "id": "U9TbHNRSr-5c"
   },
   "outputs": [],
   "source": [
    "base_model.trainable = True"
   ]
  },
  {
   "cell_type": "code",
   "execution_count": 42,
   "metadata": {
    "colab": {
     "base_uri": "https://localhost:8080/"
    },
    "id": "UZVI_4uOsMuz",
    "outputId": "1f2db327-2cc9-4cd1-8d66-202737b48367"
   },
   "outputs": [
    {
     "name": "stdout",
     "output_type": "stream",
     "text": [
      "Number of layers in the base model:  175\n"
     ]
    }
   ],
   "source": [
    "# Let's take a look to see how many layers are in the base model\n",
    "print(\"Number of layers in the base model: \", len(base_model.layers))\n",
    "\n",
    "# Fine-tune from this layer onwards\n",
    "fine_tune_at = 100\n",
    "\n",
    "# Freeze all the layers before the `fine_tune_at` layer\n",
    "for layer in base_model.layers[:fine_tune_at]:\n",
    "  layer.trainable =  False"
   ]
  },
  {
   "cell_type": "code",
   "execution_count": 43,
   "metadata": {
    "id": "8EboGeXEsOTz"
   },
   "outputs": [],
   "source": [
    "model.compile(loss=tf.keras.losses.CategoricalCrossentropy(),\n",
    "              optimizer = tf.keras.optimizers.RMSprop(lr=base_learning_rate/10),\n",
    "              metrics=['accuracy'])"
   ]
  },
  {
   "cell_type": "code",
   "execution_count": 44,
   "metadata": {
    "colab": {
     "base_uri": "https://localhost:8080/"
    },
    "id": "p5jhWiGSsQxi",
    "outputId": "619c3422-c3c3-41e3-c349-9b9eff296e47"
   },
   "outputs": [
    {
     "data": {
      "text/plain": [
       "92"
      ]
     },
     "execution_count": 44,
     "metadata": {
      "tags": []
     },
     "output_type": "execute_result"
    }
   ],
   "source": [
    "len(model.trainable_variables)"
   ]
  },
  {
   "cell_type": "code",
   "execution_count": 45,
   "metadata": {
    "colab": {
     "base_uri": "https://localhost:8080/"
    },
    "id": "IWaJmU17sTX7",
    "outputId": "dbba6f7e-4c8e-4d45-e0ef-9a1218c17779"
   },
   "outputs": [
    {
     "name": "stdout",
     "output_type": "stream",
     "text": [
      "Epoch 10/30\n",
      "19/19 [==============================] - 11s 280ms/step - loss: 1.0421 - accuracy: 0.6488 - val_loss: 0.3728 - val_accuracy: 0.8889\n",
      "Epoch 11/30\n",
      "19/19 [==============================] - 4s 205ms/step - loss: 0.6497 - accuracy: 0.7812 - val_loss: 0.3025 - val_accuracy: 0.9074\n",
      "Epoch 12/30\n",
      "19/19 [==============================] - 4s 205ms/step - loss: 0.5215 - accuracy: 0.8201 - val_loss: 0.2214 - val_accuracy: 0.9444\n",
      "Epoch 13/30\n",
      "19/19 [==============================] - 4s 207ms/step - loss: 0.3610 - accuracy: 0.8669 - val_loss: 0.1901 - val_accuracy: 0.9630\n",
      "Epoch 14/30\n",
      "19/19 [==============================] - 4s 207ms/step - loss: 0.3757 - accuracy: 0.8816 - val_loss: 0.1685 - val_accuracy: 0.9537\n",
      "Epoch 15/30\n",
      "19/19 [==============================] - 4s 208ms/step - loss: 0.2712 - accuracy: 0.9043 - val_loss: 0.1920 - val_accuracy: 0.9630\n",
      "Epoch 16/30\n",
      "19/19 [==============================] - 4s 207ms/step - loss: 0.2379 - accuracy: 0.9167 - val_loss: 0.1464 - val_accuracy: 0.9537\n",
      "Epoch 17/30\n",
      "19/19 [==============================] - 4s 209ms/step - loss: 0.2079 - accuracy: 0.9163 - val_loss: 0.1808 - val_accuracy: 0.9352\n",
      "Epoch 18/30\n",
      "19/19 [==============================] - 4s 208ms/step - loss: 0.1868 - accuracy: 0.9435 - val_loss: 0.1740 - val_accuracy: 0.9444\n",
      "Epoch 19/30\n",
      "19/19 [==============================] - 4s 209ms/step - loss: 0.1685 - accuracy: 0.9485 - val_loss: 0.1975 - val_accuracy: 0.9537\n",
      "Epoch 20/30\n",
      "19/19 [==============================] - 4s 209ms/step - loss: 0.1121 - accuracy: 0.9680 - val_loss: 0.1287 - val_accuracy: 0.9537\n",
      "Epoch 21/30\n",
      "19/19 [==============================] - 4s 209ms/step - loss: 0.0844 - accuracy: 0.9804 - val_loss: 0.1483 - val_accuracy: 0.9537\n",
      "Epoch 22/30\n",
      "19/19 [==============================] - 4s 210ms/step - loss: 0.1360 - accuracy: 0.9594 - val_loss: 0.1234 - val_accuracy: 0.9444\n",
      "Epoch 23/30\n",
      "19/19 [==============================] - 4s 211ms/step - loss: 0.0963 - accuracy: 0.9664 - val_loss: 0.1386 - val_accuracy: 0.9537\n",
      "Epoch 24/30\n",
      "19/19 [==============================] - 4s 213ms/step - loss: 0.0818 - accuracy: 0.9763 - val_loss: 0.1777 - val_accuracy: 0.9444\n",
      "Epoch 25/30\n",
      "19/19 [==============================] - 4s 213ms/step - loss: 0.0612 - accuracy: 0.9823 - val_loss: 0.1474 - val_accuracy: 0.9444\n",
      "Epoch 26/30\n",
      "19/19 [==============================] - 4s 213ms/step - loss: 0.1027 - accuracy: 0.9770 - val_loss: 0.1171 - val_accuracy: 0.9630\n",
      "Epoch 27/30\n",
      "19/19 [==============================] - 4s 215ms/step - loss: 0.0503 - accuracy: 0.9818 - val_loss: 0.1758 - val_accuracy: 0.9537\n",
      "Epoch 28/30\n",
      "19/19 [==============================] - 4s 214ms/step - loss: 0.0501 - accuracy: 0.9902 - val_loss: 0.1627 - val_accuracy: 0.9537\n",
      "Epoch 29/30\n",
      "19/19 [==============================] - 4s 212ms/step - loss: 0.0614 - accuracy: 0.9818 - val_loss: 0.1271 - val_accuracy: 0.9537\n",
      "Epoch 30/30\n",
      "19/19 [==============================] - 4s 213ms/step - loss: 0.0386 - accuracy: 0.9912 - val_loss: 0.1405 - val_accuracy: 0.9444\n"
     ]
    }
   ],
   "source": [
    "fine_tune_epochs = 20\n",
    "total_epochs =  initial_epochs + fine_tune_epochs\n",
    "\n",
    "history_fine = model.fit(train_dataset,\n",
    "                         epochs=total_epochs,\n",
    "                         initial_epoch=history.epoch[-1],\n",
    "                         validation_data=val_dataset)"
   ]
  },
  {
   "cell_type": "code",
   "execution_count": 46,
   "metadata": {
    "id": "yJgO_bNssbsz"
   },
   "outputs": [],
   "source": [
    "acc += history_fine.history['accuracy']\n",
    "val_acc += history_fine.history['val_accuracy']\n",
    "\n",
    "loss += history_fine.history['loss']\n",
    "val_loss += history_fine.history['val_loss']"
   ]
  },
  {
   "cell_type": "code",
   "execution_count": 47,
   "metadata": {
    "colab": {
     "base_uri": "https://localhost:8080/",
     "height": 513
    },
    "id": "NHYx37tEu3PU",
    "outputId": "3cb4015e-8504-4ea9-db76-d3aeb7d74226"
   },
   "outputs": [
    {
     "data": {
      "image/png": "[encoded data removed]",
      "text/plain": [
       "<Figure size 576x576 with 2 Axes>"
      ]
     },
     "metadata": {
      "needs_background": "light",
      "tags": []
     },
     "output_type": "display_data"
    }
   ],
   "source": [
    "plt.figure(figsize=(8, 8))\n",
    "plt.subplot(2, 1, 1)\n",
    "plt.plot(acc, label='Training Accuracy')\n",
    "plt.plot(val_acc, label='Validation Accuracy')\n",
    "plt.ylim([0.8, 1])\n",
    "plt.plot([initial_epochs-1,initial_epochs-1],\n",
    "          plt.ylim(), label='Start Fine Tuning')\n",
    "plt.legend(loc='lower right')\n",
    "plt.title('Training and Validation Accuracy')\n",
    "\n",
    "plt.subplot(2, 1, 2)\n",
    "plt.plot(loss, label='Training Loss')\n",
    "plt.plot(val_loss, label='Validation Loss')\n",
    "plt.ylim([0, 1.0])\n",
    "plt.plot([initial_epochs-1,initial_epochs-1],\n",
    "         plt.ylim(), label='Start Fine Tuning')\n",
    "plt.legend(loc='upper right')\n",
    "plt.title('Training and Validation Loss')\n",
    "plt.xlabel('epoch')\n",
    "plt.show()"
   ]
  },
  {
   "cell_type": "code",
   "execution_count": 47,
   "metadata": {
    "id": "dbVtjsXxu47L"
   },
   "outputs": [],
   "source": []
  },
  {
   "cell_type": "code",
   "execution_count": 48,
   "metadata": {
    "colab": {
     "base_uri": "https://localhost:8080/"
    },
    "id": "5-ZStViC-5Fo",
    "outputId": "5c123e4e-9085-4a98-de32-6f7848262b4f"
   },
   "outputs": [
    {
     "name": "stdout",
     "output_type": "stream",
     "text": [
      "4/4 [==============================] - 2s 326ms/step - loss: 0.3826 - accuracy: 0.8819\n"
     ]
    },
    {
     "data": {
      "text/plain": [
       "[0.3826220631599426, 0.8818897604942322]"
      ]
     },
     "execution_count": 48,
     "metadata": {
      "tags": []
     },
     "output_type": "execute_result"
    }
   ],
   "source": [
    "model.evaluate(test_x,test_y)"
   ]
  },
  {
   "cell_type": "code",
   "execution_count": 49,
   "metadata": {
    "id": "cWcJNDIJyVCT"
   },
   "outputs": [],
   "source": [
    "predictions=np.argmax(model.predict(test_x),axis=1)"
   ]
  },
  {
   "cell_type": "code",
   "execution_count": 65,
   "metadata": {
    "id": "tZu9_rWi2WKI"
   },
   "outputs": [],
   "source": [
    "labels=np.argmax(test_y,axis=1)"
   ]
  },
  {
   "cell_type": "code",
   "execution_count": 67,
   "metadata": {
    "colab": {
     "base_uri": "https://localhost:8080/"
    },
    "id": "61uhFSQF3EAI",
    "outputId": "34fb4dc5-3309-4631-90fa-6ef1bfe24a04"
   },
   "outputs": [
    {
     "data": {
      "text/plain": [
       "<tf.Tensor: shape=(10, 10), dtype=int32, numpy=\n",
       "array([[12,  0,  0,  0,  0,  0,  0,  0,  0,  0],\n",
       "       [ 0, 11,  0,  0,  0,  0,  0,  0,  0,  0],\n",
       "       [ 0,  0,  9,  0,  0,  0,  0,  0,  1,  1],\n",
       "       [ 0,  0,  0, 15,  0,  0,  1,  0,  0,  0],\n",
       "       [ 0,  0,  0,  0, 11,  1,  0,  0,  1,  0],\n",
       "       [ 1,  0,  0,  0,  0,  7,  1,  0,  1,  0],\n",
       "       [ 0,  0,  0,  0,  0,  0, 10,  0,  0,  0],\n",
       "       [ 1,  0,  0,  0,  0,  0,  0, 17,  1,  0],\n",
       "       [ 0,  1,  0,  0,  0,  0,  0,  0, 13,  0],\n",
       "       [ 2,  0,  0,  0,  0,  0,  0,  1,  1,  7]], dtype=int32)>"
      ]
     },
     "execution_count": 67,
     "metadata": {
      "tags": []
     },
     "output_type": "execute_result"
    }
   ],
   "source": [
    "tf.math.confusion_matrix(labels,predictions)"
   ]
  },
  {
   "cell_type": "code",
   "execution_count": 68,
   "metadata": {
    "id": "fwh4bUH-3mnB"
   },
   "outputs": [],
   "source": [
    "from sklearn.metrics import f1_score, roc_auc_score"
   ]
  },
  {
   "cell_type": "code",
   "execution_count": 69,
   "metadata": {
    "colab": {
     "base_uri": "https://localhost:8080/"
    },
    "id": "jYLOEAOS4IsP",
    "outputId": "3c8b7ce8-8370-4440-e90d-9b9644d0041f"
   },
   "outputs": [
    {
     "data": {
      "text/plain": [
       "0.8753202909474593"
      ]
     },
     "execution_count": 69,
     "metadata": {
      "tags": []
     },
     "output_type": "execute_result"
    }
   ],
   "source": [
    "f1_score(labels,predictions,average='macro')"
   ]
  },
  {
   "cell_type": "code",
   "execution_count": 70,
   "metadata": {
    "colab": {
     "base_uri": "https://localhost:8080/"
    },
    "id": "5wYXz60Q4Ma_",
    "outputId": "fbfe4d56-415c-4816-bd02-1b09f4126a60"
   },
   "outputs": [
    {
     "data": {
      "text/plain": [
       "0.9963660609526533"
      ]
     },
     "execution_count": 70,
     "metadata": {
      "tags": []
     },
     "output_type": "execute_result"
    }
   ],
   "source": [
    "roc_auc_score(test_y,model.predict(test_x),multi_class='ovo')"
   ]
  },
  {
   "cell_type": "code",
   "execution_count": 71,
   "metadata": {
    "colab": {
     "base_uri": "https://localhost:8080/"
    },
    "id": "3FmUpeiaBUif",
    "outputId": "c3991c95-2a85-4496-ad88-5a46c547296e"
   },
   "outputs": [
    {
     "name": "stdout",
     "output_type": "stream",
     "text": [
      "INFO:tensorflow:Assets written to: model/dog_classifier_model/assets\n"
     ]
    }
   ],
   "source": [
    "model.save('model/dog_classifier_model')"
   ]
  },
  {
   "cell_type": "code",
   "execution_count": 72,
   "metadata": {
    "colab": {
     "base_uri": "https://localhost:8080/"
    },
    "id": "qGUcg8ycCMUR",
    "outputId": "7421f371-1838-466b-8126-ff7bf97814b4"
   },
   "outputs": [
    {
     "name": "stdout",
     "output_type": "stream",
     "text": [
      "  adding: content/model/dog_classifier_model/ (stored 0%)\n",
      "  adding: content/model/dog_classifier_model/saved_model.pb (deflated 93%)\n",
      "  adding: content/model/dog_classifier_model/assets/ (stored 0%)\n",
      "  adding: content/model/dog_classifier_model/variables/ (stored 0%)\n",
      "  adding: content/model/dog_classifier_model/variables/variables.data-00000-of-00001 (deflated 8%)\n",
      "  adding: content/model/dog_classifier_model/variables/variables.index (deflated 80%)\n"
     ]
    }
   ],
   "source": [
    "!zip -r /content/model.zip /content/model/dog_classifier_model"
   ]
  },
  {
   "cell_type": "code",
   "execution_count": 73,
   "metadata": {
    "colab": {
     "base_uri": "https://localhost:8080/",
     "height": 17
    },
    "id": "hiGtP11LC7o2",
    "outputId": "5ecbbef9-ebe3-4a6e-9ad6-ebfe14cbb6a9"
   },
   "outputs": [
    {
     "data": {
      "application/javascript": [
       "\n",
       "    async function download(id, filename, size) {\n",
       "      if (!google.colab.kernel.accessAllowed) {\n",
       "        return;\n",
       "      }\n",
       "      const div = document.createElement('div');\n",
       "      const label = document.createElement('label');\n",
       "      label.textContent = `Downloading \"${filename}\": `;\n",
       "      div.appendChild(label);\n",
       "      const progress = document.createElement('progress');\n",
       "      progress.max = size;\n",
       "      div.appendChild(progress);\n",
       "      document.body.appendChild(div);\n",
       "\n",
       "      const buffers = [];\n",
       "      let downloaded = 0;\n",
       "\n",
       "      const channel = await google.colab.kernel.comms.open(id);\n",
       "      // Send a message to notify the kernel that we're ready.\n",
       "      channel.send({})\n",
       "\n",
       "      for await (const message of channel.messages) {\n",
       "        // Send a message to notify the kernel that we're ready.\n",
       "        channel.send({})\n",
       "        if (message.buffers) {\n",
       "          for (const buffer of message.buffers) {\n",
       "            buffers.push(buffer);\n",
       "            downloaded += buffer.byteLength;\n",
       "            progress.value = downloaded;\n",
       "          }\n",
       "        }\n",
       "      }\n",
       "      const blob = new Blob(buffers, {type: 'application/binary'});\n",
       "      const a = document.createElement('a');\n",
       "      a.href = window.URL.createObjectURL(blob);\n",
       "      a.download = filename;\n",
       "      div.appendChild(a);\n",
       "      a.click();\n",
       "      div.remove();\n",
       "    }\n",
       "  "
      ],
      "text/plain": [
       "<IPython.core.display.Javascript object>"
      ]
     },
     "metadata": {
      "tags": []
     },
     "output_type": "display_data"
    },
    {
     "data": {
      "application/javascript": [
       "download(\"download_c8fdc9bd-6b6a-4cb8-a8eb-ab129421ef61\", \"model.zip\", 159594523)"
      ],
      "text/plain": [
       "<IPython.core.display.Javascript object>"
      ]
     },
     "metadata": {
      "tags": []
     },
     "output_type": "display_data"
    }
   ],
   "source": [
    "files.download(\"/content/model.zip\")"
   ]
  },
  {
   "cell_type": "code",
   "execution_count": 74,
   "metadata": {
    "id": "Roe9kIchFi4G"
   },
   "outputs": [],
   "source": [
    "model.save('dog_classifier_model.h5')"
   ]
  },
  {
   "cell_type": "code",
   "execution_count": null,
   "metadata": {
    "id": "P50Y8z5xd0Nc"
   },
   "outputs": [],
   "source": []
  }
 ],
 "metadata": {
  "accelerator": "GPU",
  "colab": {
   "collapsed_sections": [],
   "name": "DogBreedClassification.ipynb",
   "provenance": []
  },
  "kernelspec": {
   "display_name": "Python 3",
   "language": "python",
   "name": "python3"
  },
  "language_info": {
   "codemirror_mode": {
    "name": "ipython",
    "version": 3
   },
   "file_extension": ".py",
   "mimetype": "text/x-python",
   "name": "python",
   "nbconvert_exporter": "python",
   "pygments_lexer": "ipython3",
   "version": "3.7.7"
  }
 },
 "nbformat": 4,
 "nbformat_minor": 1
}
